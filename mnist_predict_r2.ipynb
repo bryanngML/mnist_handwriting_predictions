{
 "cells": [
  {
   "cell_type": "markdown",
   "metadata": {},
   "source": [
    "# Tutorial on Identifying Handwriting Digits Using Tensorflow"
   ]
  },
  {
   "cell_type": "code",
   "execution_count": null,
   "metadata": {},
   "outputs": [],
   "source": [
    "# Ignore warnings\n",
    "import warnings\n",
    "warnings.filterwarnings('ignore')\n",
    "\n",
    "# Tensor Flow and Keras\n",
    "import tensorflow as tf\n",
    "\n",
    "import os\n",
    "import cv2\n",
    "\n",
    "# Helper Libraries\n",
    "import numpy as np\n",
    "import pandas as pd\n",
    "import matplotlib.pyplot as plt\n",
    "import matplotlib.image as mpimg\n",
    "\n",
    "# Fix the random state of tensorflow.keras model - to get same model training result everytime  \n",
    "tf.random.set_seed(5)\n",
    "\n",
    "%matplotlib inline\n",
    "\n",
    "print (tf.__version__)\n",
    "print (cv2.__version__)"
   ]
  },
  {
   "cell_type": "code",
   "execution_count": null,
   "metadata": {},
   "outputs": [],
   "source": [
    "# Define Image Collaterals\n",
    "image_path=r'trainingSet/trainingSet'\n",
    "\n",
    "IMG_WIDTH=28\n",
    "IMG_HEIGHT=28"
   ]
  },
  {
   "cell_type": "code",
   "execution_count": null,
   "metadata": {},
   "outputs": [],
   "source": [
    "# Define Preprocessing Functions here\n",
    "def create_dataset (image_path):\n",
    "    img_data_list = []\n",
    "    img_class_list = []\n",
    "    img_data_train_list = []\n",
    "    img_data_test_list = []\n",
    "    img_class_train_list = []\n",
    "    img_class_test_list = []\n",
    "    img_data_disp_train_list = []\n",
    "    img_data_disp_test_list = []\n",
    "    img_class_disp_train_list = []\n",
    "    img_class_disp_test_list = []\n",
    "    \n",
    "    for subfolder in os.listdir(image_path):\n",
    "        for file in os.listdir(os.path.join(image_path, subfolder)):\n",
    "            img_path = os.path.join(image_path, subfolder, file)\n",
    "            img = cv2.imread(img_path, cv2.COLOR_BGR2RGB)\n",
    "            img = cv2.resize(img, (IMG_HEIGHT, IMG_WIDTH), interpolation=cv2.INTER_AREA)\n",
    "            img = np.array(img)\n",
    "            img = img.astype('float32')\n",
    "            img /= 255.0\n",
    "            img_data_list.append(img)\n",
    "            img_class_list.append(int(subfolder))\n",
    "        \n",
    "        full_array_size = len(img_data_list)\n",
    "        split_array_size = int(full_array_size*0.75)\n",
    "        \n",
    "        # Split the dataset\n",
    "        img_data_train = img_data_list[0:split_array_size-4]\n",
    "        img_data_disp_train = img_data_list[split_array_size-3:split_array_size]\n",
    "        img_data_test = img_data_list[split_array_size+1:full_array_size-4]\n",
    "        img_data_disp_test = img_data_list[full_array_size-3:full_array_size]\n",
    "        img_class_train = img_class_list[0:split_array_size-4]\n",
    "        img_class_disp_train = img_class_list[split_array_size-3:split_array_size]\n",
    "        img_class_test = img_class_list[split_array_size+1:full_array_size-4]\n",
    "        img_class_disp_test = img_class_list[full_array_size-3:full_array_size]        \n",
    "        #img_class_train = img_class_list[0:split_array_size]\n",
    "        #img_class_test = img_class_list[split_array_size+1:]\n",
    "        \n",
    "        # Concat list together\n",
    "        img_data_train_list += img_data_train\n",
    "        img_data_disp_train_list += img_data_disp_train\n",
    "        img_data_test_list += img_data_test\n",
    "        img_data_disp_test_list += img_data_disp_test\n",
    "        img_class_train_list += img_class_train\n",
    "        img_class_disp_train_list += img_class_disp_train\n",
    "        img_class_test_list += img_class_test\n",
    "        img_class_disp_test_list += img_class_disp_test\n",
    "        \n",
    "        # Reinitilize the lists\n",
    "        img_data_list = []\n",
    "        img_class_list = []        \n",
    "        \n",
    "    # Must convert to numpy array to allow it to be fed into tensorflow\n",
    "    img_data_train_array = np.array(img_data_train_list)\n",
    "    img_class_train_array = np.array(img_class_train_list)\n",
    "    img_class_train_array = img_class_train_array.astype(np.uint8)\n",
    "\n",
    "    img_data_disp_train_array = np.array(img_data_disp_train_list)\n",
    "    img_class_disp_train_array = np.array(img_class_disp_train_list)\n",
    "    img_class_disp_train_array = img_class_disp_train_array.astype(np.uint8)    \n",
    "    \n",
    "    img_data_test_array = np.array(img_data_test_list)\n",
    "    img_class_test_array = np.array(img_class_test_list)\n",
    "    img_class_test_array = img_class_test_array.astype(np.uint8)\n",
    "\n",
    "    img_data_disp_test_array = np.array(img_data_disp_test_list)\n",
    "    img_class_disp_test_array = np.array(img_class_disp_test_list)\n",
    "    img_class_disp_test_array = img_class_disp_test_array.astype(np.uint8)    \n",
    "    \n",
    "    return ((img_data_train_array, img_class_train_array), (img_data_test_array, img_class_test_array), \n",
    "           (img_data_disp_train_array, img_class_disp_train_array), (img_data_disp_test_array, img_class_disp_test_array))\n",
    "\n",
    "# Functions to visualize prediction of images\n",
    "def plot_image (i, predictions_array, true_label, img):\n",
    "    true_label, img = true_label[i], img[i]\n",
    "    \n",
    "    plt.grid(False)\n",
    "    plt.xticks([])\n",
    "    plt.yticks([])\n",
    "    #plt.imshow(img, cmap=plt.cm.binary)\n",
    "    plt.imshow(img)\n",
    "    \n",
    "    predicted_label = np.argmax(predictions_array)\n",
    "    if predicted_label == true_label:\n",
    "        color='blue'\n",
    "    else:\n",
    "        color='red'\n",
    "    \n",
    "    plt.xlabel(\"{} {:2.0f}% ({})\".format(class_names[predicted_label],\n",
    "                100*np.max(predictions_array),\n",
    "                class_names[true_label]),\n",
    "                color=color)\n",
    "    \n",
    "def plot_value_array (i, predictions_array, true_label):\n",
    "    true_label = true_label[i]\n",
    "    \n",
    "    plt.grid(False)\n",
    "    plt.xticks(range(10))\n",
    "    plt.yticks(np.arange(0, 1.1, 0.1))\n",
    "    thisplot = plt.bar(range(10), predictions_array, color=\"#777777\")\n",
    "    plt.ylim([0, 1])\n",
    "    predicted_label = np.argmax(predictions_array)\n",
    "    \n",
    "    thisplot[predicted_label].set_color('red')\n",
    "    thisplot[true_label].set_color('blue')"
   ]
  },
  {
   "cell_type": "code",
   "execution_count": null,
   "metadata": {},
   "outputs": [],
   "source": [
    "((img_train_data, img_train_labels), (img_test_data, img_test_labels),\n",
    " (img_train_disp_data, img_train_disp_labels), (img_test_disp_data, img_test_disp_labels)) = create_dataset (image_path)"
   ]
  },
  {
   "cell_type": "code",
   "execution_count": null,
   "metadata": {
    "scrolled": false
   },
   "outputs": [],
   "source": [
    "print(\"Train Data Size:\")\n",
    "print(len(img_train_data))\n",
    "print(len(img_train_labels))\n",
    "print(\"Test Data Size:\")\n",
    "print(len(img_test_data))\n",
    "print(len(img_test_labels))\n",
    "print(\"Train Display Data Size:\")\n",
    "print(len(img_train_disp_data))\n",
    "print(len(img_train_disp_labels))\n",
    "print(\"Test Display Data Size:\")\n",
    "print(len(img_test_disp_data))\n",
    "print(len(img_test_disp_labels))"
   ]
  },
  {
   "cell_type": "code",
   "execution_count": null,
   "metadata": {},
   "outputs": [],
   "source": [
    "print(img_train_disp_labels)\n",
    "print(img_test_disp_labels)"
   ]
  },
  {
   "cell_type": "code",
   "execution_count": null,
   "metadata": {},
   "outputs": [],
   "source": [
    "class_names = ['zero', 'one', 'two', 'three', 'four', 'five', 'six', 'seven', 'eight', 'nine']\n",
    "\n",
    "print (class_names, \"-\", len(class_names))"
   ]
  },
  {
   "cell_type": "code",
   "execution_count": null,
   "metadata": {},
   "outputs": [],
   "source": [
    "plt.figure()\n",
    "plt.imshow(img_train_data[0])\n",
    "plt.colorbar()\n",
    "plt.show()"
   ]
  },
  {
   "cell_type": "code",
   "execution_count": null,
   "metadata": {},
   "outputs": [],
   "source": [
    "plt.figure(figsize=(10, 10))\n",
    "\n",
    "for i in range(30):\n",
    "    plt.subplot(5, 6, i+1)\n",
    "    plt.xticks([])\n",
    "    plt.yticks([])\n",
    "    plt.imshow(img_train_disp_data[i], cmap=plt.cm.binary)\n",
    "    plt.xlabel(class_names[img_train_disp_labels[i]])\n",
    "\n",
    "plt.show()"
   ]
  },
  {
   "cell_type": "code",
   "execution_count": null,
   "metadata": {},
   "outputs": [],
   "source": [
    "# Building the model\n",
    "model = tf.keras.Sequential([\n",
    "    tf.keras.layers.Flatten(input_shape=(28, 28)),\n",
    "    tf.keras.layers.Dense(128, activation='relu'),\n",
    "    tf.keras.layers.Dense(10)\n",
    "])"
   ]
  },
  {
   "cell_type": "code",
   "execution_count": null,
   "metadata": {},
   "outputs": [],
   "source": [
    "# Compile the model\n",
    "model.compile(optimizer='adam',\n",
    "             loss=tf.keras.losses.SparseCategoricalCrossentropy(from_logits=True),\n",
    "             metrics=['accuracy'])"
   ]
  },
  {
   "cell_type": "code",
   "execution_count": null,
   "metadata": {},
   "outputs": [],
   "source": [
    "# Train the model\n",
    "model.fit(img_train_data, img_train_labels, epochs=5)"
   ]
  },
  {
   "cell_type": "code",
   "execution_count": null,
   "metadata": {},
   "outputs": [],
   "source": [
    "# Evaluate Accuracy\n",
    "test_loss, test_acc = model.evaluate(img_test_data, img_test_labels, verbose=2)\n",
    "print(\"Loss - \", test_loss, \"Accuracy - \", test_acc)"
   ]
  },
  {
   "cell_type": "code",
   "execution_count": null,
   "metadata": {},
   "outputs": [],
   "source": [
    "# Make Predictions\n",
    "probability_model = tf.keras.Sequential([model,\n",
    "                                         tf.keras.layers.Softmax()])\n",
    "predictions = probability_model(img_test_disp_data)\n",
    "predictions[0]"
   ]
  },
  {
   "cell_type": "code",
   "execution_count": null,
   "metadata": {},
   "outputs": [],
   "source": [
    "np.argmax(predictions[0])"
   ]
  },
  {
   "cell_type": "code",
   "execution_count": null,
   "metadata": {},
   "outputs": [],
   "source": [
    "# Verify Predictions\n",
    "i = 0\n",
    "\n",
    "plt.figure(figsize=(6, 3)) # Width, Height\n",
    "plt.subplot(1, 2, 1)\n",
    "plot_image(i, predictions[i], img_test_disp_labels, img_test_disp_data)\n",
    "plt.imshow(img_test_disp_data[i])\n",
    "plt.subplot(1, 2, 2)\n",
    "plot_value_array(i, predictions[i], img_test_disp_labels)\n",
    "plt.show()"
   ]
  },
  {
   "cell_type": "code",
   "execution_count": null,
   "metadata": {
    "scrolled": false
   },
   "outputs": [],
   "source": [
    "# Verify a few of the predictions images\n",
    "nrows = 10\n",
    "ncols = 3\n",
    "\n",
    "num_images = nrows * ncols\n",
    "\n",
    "plt.figure(figsize=(15, 20)) # Width, Height\n",
    "\n",
    "for i in range(num_images):\n",
    "    plt.subplot(nrows, ncols*2, (i*2)+1)\n",
    "    plot_image(i, predictions[i], img_test_disp_labels, img_test_disp_data)\n",
    "    plt.subplot(nrows, ncols*2, (i*2)+2)    \n",
    "    plot_value_array(i, predictions[i], img_test_disp_labels)\n",
    "\n",
    "plt.suptitle('Handwriting Digits Predictions based on Probability using Tensorflow (after tune)', y=0.9)    \n",
    "plt.savefig(\"predicts_display.png\")\n",
    "plt.show()"
   ]
  },
  {
   "cell_type": "code",
   "execution_count": null,
   "metadata": {},
   "outputs": [],
   "source": [
    "# Using trained model\n",
    "img_cnt = 6000\n",
    "\n",
    "img = img_test_data[img_cnt]\n",
    "print (img.shape)\n",
    "\n",
    "# Fit image data into batch\n",
    "img = (np.expand_dims(img, 0))\n",
    "print (img.shape)"
   ]
  },
  {
   "cell_type": "code",
   "execution_count": null,
   "metadata": {},
   "outputs": [],
   "source": [
    "# Predictions of a single image\n",
    "plt.imshow(img_test_data[img_cnt])\n",
    "plt.xticks([])\n",
    "plt.yticks([])\n",
    "plt.show()\n",
    "\n",
    "predictions_single = probability_model.predict(img)\n",
    "print (predictions_single)\n",
    "\n",
    "plot_value_array(img_cnt, predictions_single[0], img_test_labels)\n",
    "_ = plt.xticks(range(10), class_names, rotation=45, ha='right')"
   ]
  },
  {
   "cell_type": "code",
   "execution_count": null,
   "metadata": {},
   "outputs": [],
   "source": []
  }
 ],
 "metadata": {
  "kernelspec": {
   "display_name": "Python 3",
   "language": "python",
   "name": "python3"
  },
  "language_info": {
   "codemirror_mode": {
    "name": "ipython",
    "version": 3
   },
   "file_extension": ".py",
   "mimetype": "text/x-python",
   "name": "python",
   "nbconvert_exporter": "python",
   "pygments_lexer": "ipython3",
   "version": "3.8.3"
  }
 },
 "nbformat": 4,
 "nbformat_minor": 4
}
